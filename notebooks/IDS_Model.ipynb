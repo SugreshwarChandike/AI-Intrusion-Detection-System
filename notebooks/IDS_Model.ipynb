{
 "cells": [
  {
   "cell_type": "code",
   "metadata": {},
   "source": [
    "# AI-Based Intrusion Detection System - Beginner Version\n",
    "import pandas as pd\n",
    "import matplotlib.pyplot as plt\n",
    "import seaborn as sns\n",
    "import joblib\n",
    "from sklearn.model_selection import train_test_split\n",
    "from sklearn.preprocessing import LabelEncoder, StandardScaler\n",
    "from sklearn.ensemble import RandomForestClassifier\n",
    "from sklearn.metrics import confusion_matrix, classification_report, accuracy_score"
   ],
   "outputs": []
  },
  {
   "cell_type": "code",
   "metadata": {},
   "source": [
    "# Step 1: Load dataset\n",
    "df = pd.read_csv('../data/KDDTrain+.csv')\n",
    "df.head()"
   ],
   "outputs": []
  },
  {
   "cell_type": "code",
   "metadata": {},
   "source": [
    "# Step 2: Encode categorical columns\n",
    "encoder = LabelEncoder()\n",
    "df['protocol_type'] = encoder.fit_transform(df['protocol_type'])\n",
    "df['service'] = encoder.fit_transform(df['service'])\n",
    "df['flag'] = encoder.fit_transform(df['flag'])\n",
    "X = df.drop('label', axis=1)\n",
    "y = df['label']"
   ],
   "outputs": []
  },
  {
   "cell_type": "code",
   "metadata": {},
   "source": [
    "# Step 3: Scale features\n",
    "scaler = StandardScaler()\n",
    "X_scaled = scaler.fit_transform(X)"
   ],
   "outputs": []
  },
  {
   "cell_type": "code",
   "metadata": {},
   "source": [
    "# Step 4: Train-test split\n",
    "X_train, X_test, y_train, y_test = train_test_split(\n",
    "    X_scaled, y, test_size=0.2, random_state=42\n",
    ")"
   ],
   "outputs": []
  },
  {
   "cell_type": "code",
   "metadata": {},
   "source": [
    "# Step 5: Train Random Forest model\n",
    "model = RandomForestClassifier(n_estimators=100)\n",
    "model.fit(X_train, y_train)"
   ],
   "outputs": []
  },
  {
   "cell_type": "code",
   "metadata": {},
   "source": [
    "# Step 6: Evaluate and visualize\n",
    "y_pred = model.predict(X_test)\n",
    "\n",
    "# Confusion Matrix\n",
    "cm = confusion_matrix(y_test, y_pred)\n",
    "plt.figure(figsize=(8,6))\n",
    "sns.heatmap(cm, annot=True, fmt='d', cmap='Blues')\n",
    "plt.title('Confusion Matrix')\n",
    "plt.xlabel('Predicted')\n",
    "plt.ylabel('Actual')\n",
    "plt.show()\n",
    "\n",
    "# Classification Report Heatmap\n",
    "report = classification_report(y_test, y_pred, output_dict=True)\n",
    "plt.figure(figsize=(10,6))\n",
    "sns.heatmap(pd.DataFrame(report).iloc[:-1, :].T, annot=True)\n",
    "plt.title('Classification Report Metrics')\n",
    "plt.show()\n",
    "\n",
    "# Overall Accuracy\n",
    "acc = accuracy_score(y_test, y_pred)\n",
    "print(f\"Model Accuracy: {acc*100:.2f}%\")\n",
    "print(confusion_matrix(y_test, y_pred))\n",
    "print(classification_report(y_test, y_pred))"
   ],
   "outputs": []
  },
  {
   "cell_type": "code",
   "metadata": {},
   "source": [
    "# Step 7: Save trained model\n",
    "joblib.dump(model, '../models/intrusion_model.pkl')\n",
    "print(\"Model saved to /models/intrusion_model.pkl\")"
   ],
   "outputs": []
  }
 ],
 "metadata": {
  "kernelspec": {
   "name": "python3",
   "display_name": "Python 3"
  },
  "language_info": {
   "name": "python",
   "version": "3.10"
  }
 },
 "nbformat": 4,
 "nbformat_minor": 5
}
