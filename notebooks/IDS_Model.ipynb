# IDS_Model.ipynb
# AI-Based Intrusion Detection System - Beginner Version

import pandas as pd
from sklearn.model_selection import train_test_split
from sklearn.preprocessing import LabelEncoder, StandardScaler
from sklearn.ensemble import RandomForestClassifier
from sklearn.metrics import classification_report, confusion_matrix
import joblib

# Step 1: Load dataset (download NSL-KDD or KDD99 and place it in /data)
df = pd.read_csv('../data/KDDTrain+.csv')

# Step 2: Encode and scale
encoder = LabelEncoder()
df['protocol_type'] = encoder.fit_transform(df['protocol_type'])
df['service'] = encoder.fit_transform(df['service'])
df['flag'] = encoder.fit_transform(df['flag'])

X = df.drop('label', axis=1)
y = df['label']

scaler = StandardScaler()
X_scaled = scaler.fit_transform(X)

# Step 3: Train-test split
X_train, X_test, y_train, y_test = train_test_split(X_scaled, y, test_size=0.2, random_state=42)

# Step 4: Model training
model = RandomForestClassifier(n_estimators=100)
model.fit(X_train, y_train)

# Step 5: Evaluation
y_pred = model.predict(X_test)
print(confusion_matrix(y_test, y_pred))
print(classification_report(y_test, y_pred))

# Step 6: Save model
joblib.dump(model, '../models/intrusion_model.pkl')
